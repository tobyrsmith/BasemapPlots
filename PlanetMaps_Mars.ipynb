{
 "cells": [
  {
   "cell_type": "code",
   "execution_count": null,
   "metadata": {
    "collapsed": false,
    "jupyter": {
     "outputs_hidden": false
    }
   },
   "outputs": [],
   "source": [
    "import numpy as np\n",
    "import pandas as pd\n",
    "import matplotlib.pyplot as plt\n",
    "from mpl_toolkits.basemap import Basemap\n",
    "\n",
    "plt.rc('axes', grid=False)   # turn off the background grid for images\n",
    "#plt.rc('axes', facecolor='1.0')"
   ]
  },
  {
   "cell_type": "code",
   "execution_count": null,
   "metadata": {
    "collapsed": false,
    "jupyter": {
     "outputs_hidden": false
    }
   },
   "outputs": [],
   "source": [
    "#Topo = plt.imread('Mars.jpg')\n",
    "#print Topo.shape, Topo.dtype"
   ]
  },
  {
   "cell_type": "markdown",
   "metadata": {},
   "source": [
    "### Mars Landers"
   ]
  },
  {
   "cell_type": "code",
   "execution_count": null,
   "metadata": {
    "collapsed": false,
    "jupyter": {
     "outputs_hidden": false
    }
   },
   "outputs": [],
   "source": [
    "T = pd.read_csv('MarsRobots.csv')\n",
    "print T\n",
    "\n",
    "Lon = np.array(T['Lon'])\n",
    "Lat = np.array(T['Lat'])"
   ]
  },
  {
   "cell_type": "code",
   "execution_count": null,
   "metadata": {
    "collapsed": false,
    "jupyter": {
     "outputs_hidden": false
    }
   },
   "outputs": [],
   "source": [
    "fig, ax = plt.subplots(1,1)\n",
    "fig.set_size_inches(10,7)\n",
    "\n",
    "map = Basemap(projection='mbtfpq', lat_0 = 0, lon_0 = 90, resolution = 'l', area_thresh = 1000.0)\n",
    "\n",
    "x,y = map(Lon,Lat)\n",
    "\n",
    "map.scatter(x, y, s=40, marker='o', facecolor='y', edgecolor='k')\n",
    "\n",
    "map.warpimage(image='Mars.jpg')\n",
    "\n",
    "#map.bluemarble()\n",
    "\n",
    "map.ax = ax"
   ]
  },
  {
   "cell_type": "code",
   "execution_count": null,
   "metadata": {
    "collapsed": false,
    "jupyter": {
     "outputs_hidden": false
    }
   },
   "outputs": [],
   "source": [
    "fig.savefig('MarsRobots_ShadedMap.png', dpi=300, bbox_inches='tight')"
   ]
  },
  {
   "cell_type": "code",
   "execution_count": null,
   "metadata": {
    "collapsed": false,
    "jupyter": {
     "outputs_hidden": false
    }
   },
   "outputs": [],
   "source": [
    "fig, ax = plt.subplots(1,1)\n",
    "fig.set_size_inches(10,7)\n",
    "\n",
    "LonM = Lon + 180.0\n",
    "\n",
    "map = Basemap(projection='mbtfpq', lat_0 = 0, lon_0 = -90, resolution = 'l', area_thresh = 1000.0)\n",
    "\n",
    "x,y = map(LonM,Lat)\n",
    "\n",
    "map.scatter(x, y, s=5, marker='o', facecolor='k', edgecolor='k')\n",
    "\n",
    "map.warpimage(image='MOLA_50.jpg')\n",
    "\n",
    "#map.bluemarble()\n",
    "\n",
    "map.ax = ax"
   ]
  },
  {
   "cell_type": "code",
   "execution_count": null,
   "metadata": {
    "collapsed": true,
    "jupyter": {
     "outputs_hidden": true
    }
   },
   "outputs": [],
   "source": [
    "fig.savefig('MarsRobots_TopoMap.png', dpi=300, bbox_inches='tight')"
   ]
  },
  {
   "cell_type": "code",
   "execution_count": null,
   "metadata": {
    "collapsed": false,
    "jupyter": {
     "outputs_hidden": false
    }
   },
   "outputs": [],
   "source": [
    "fig, ax = plt.subplots(1,1)\n",
    "fig.set_size_inches(10,7)\n",
    "\n",
    "LonM = Lon + 180.0\n",
    "\n",
    "map = Basemap(projection='mbtfpq', lat_0 = 0, lon_0 = -90, resolution = 'l', area_thresh = 1000.0)\n",
    "\n",
    "#x,y = map(LonM,Lat)\n",
    "\n",
    "#map.scatter(x, y, s=45, marker='o', facecolor='y', edgecolor='k')\n",
    "\n",
    "map.warpimage(image='MOLA_50.jpg')\n",
    "\n",
    "#map.bluemarble()\n",
    "\n",
    "map.ax = ax"
   ]
  },
  {
   "cell_type": "code",
   "execution_count": null,
   "metadata": {
    "collapsed": true,
    "jupyter": {
     "outputs_hidden": true
    }
   },
   "outputs": [],
   "source": [
    "fig.savefig('MarsRobots_TopoMap_Blank.png', dpi=300, bbox_inches='tight')"
   ]
  },
  {
   "cell_type": "code",
   "execution_count": null,
   "metadata": {
    "collapsed": true,
    "jupyter": {
     "outputs_hidden": true
    }
   },
   "outputs": [],
   "source": []
  }
 ],
 "metadata": {
  "kernelspec": {
   "display_name": "Python 3 (ipykernel)",
   "language": "python",
   "name": "python3"
  },
  "language_info": {
   "codemirror_mode": {
    "name": "ipython",
    "version": 3
   },
   "file_extension": ".py",
   "mimetype": "text/x-python",
   "name": "python",
   "nbconvert_exporter": "python",
   "pygments_lexer": "ipython3",
   "version": "3.9.7"
  }
 },
 "nbformat": 4,
 "nbformat_minor": 4
}
