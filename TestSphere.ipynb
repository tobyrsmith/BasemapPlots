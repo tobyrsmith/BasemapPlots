{
 "cells": [
  {
   "cell_type": "code",
   "execution_count": null,
   "id": "75747770",
   "metadata": {
    "collapsed": false,
    "jupyter": {
     "outputs_hidden": false
    }
   },
   "outputs": [],
   "source": [
    "import numpy as np\n",
    "import matplotlib.pyplot as plt\n",
    "import cartopy.crs as ccrs\n",
    "#from mpl_toolkits.basemap import Basemap"
   ]
  },
  {
   "cell_type": "code",
   "execution_count": null,
   "id": "5b56812d",
   "metadata": {
    "collapsed": false,
    "jupyter": {
     "outputs_hidden": false
    }
   },
   "outputs": [],
   "source": [
    "plt.rc('axes', grid=False)   # turn off the background grid for images\n",
    "plt.rc('axes', facecolor='1.0') \n",
    "\n",
    "Topo = plt.imread('Earth_50.png')\n",
    "print Topo.shape, Topo.dtype"
   ]
  },
  {
   "cell_type": "markdown",
   "id": "3d73b573",
   "metadata": {},
   "source": [
    "### Impact Craters"
   ]
  },
  {
   "cell_type": "code",
   "execution_count": null,
   "id": "40bc0e51",
   "metadata": {
    "collapsed": false,
    "jupyter": {
     "outputs_hidden": false
    }
   },
   "outputs": [],
   "source": [
    "TestLat = np.array([0,45,60,-45,-60])\n",
    "TestLon = np.array([0,-45,-90,45,90])\n",
    "\n",
    "LatD,LatM,LonD,LonM = np.loadtxt('World.csv', delimiter=',', usecols=(2,3,4,5), unpack=True)\n",
    "\n",
    "#ImY,ImX = Topo.shape[0:-1]\n",
    "\n",
    "#MapY = -ImY/180.0 * LatD + ImY/2.0\n",
    "#MapX = (ImX/360.0 * LonD) + ImX/2.0\n",
    "\n",
    "#mask1 = np.where(MapX > ImX)\n",
    "#MapX[mask1] -= ImX"
   ]
  },
  {
   "cell_type": "code",
   "execution_count": null,
   "id": "078b7f45",
   "metadata": {
    "collapsed": false,
    "jupyter": {
     "outputs_hidden": false
    }
   },
   "outputs": [],
   "source": [
    "fig, ax = plt.subplots(1,1)\n",
    "fig.set_size_inches(10,7)\n",
    "\n",
    "map = Basemap(projection='robin', lat_0 = 0, lon_0 = 0, resolution = 'l', area_thresh = 1000.0)\n",
    "              #,llcrnrlat=-80,urcrnrlat=80,llcrnrlon=-180,urcrnrlon=180)\n",
    "\n",
    "#map.drawcoastlines()\n",
    "#map.drawcountries()\n",
    "#map.fillcontinents(color='coral')\n",
    "\n",
    "#map.drawmeridians(np.arange(0, 360, 30))\n",
    "#map.drawparallels(np.arange(-90, 90, 30))\n",
    "\n",
    "x,y = map(LonD, LatD)\n",
    "\n",
    "#map.plot(x, y, marker=\"o\", color='y', markersize=5, linestyle='None', edgecolor='k')\n",
    "\n",
    "map.scatter(x, y, s=10, marker='o', facecolor='y', edgecolor='k')\n",
    "\n",
    "map.warpimage(image='Earth_50.png')\n",
    "\n",
    "map.ax = ax"
   ]
  },
  {
   "cell_type": "code",
   "execution_count": null,
   "id": "c0b0854d",
   "metadata": {
    "collapsed": false,
    "jupyter": {
     "outputs_hidden": false
    }
   },
   "outputs": [],
   "source": [
    "#fig.savefig('XXX.png', dpi=200, bbox_inches='tight',pad_inches=0.1)"
   ]
  },
  {
   "cell_type": "code",
   "execution_count": null,
   "id": "f45c0439",
   "metadata": {
    "collapsed": false,
    "jupyter": {
     "outputs_hidden": false
    }
   },
   "outputs": [],
   "source": [
    "fig, ax = plt.subplots(1,1)\n",
    "fig.set_size_inches(10,7)\n",
    "\n",
    "h = 6000.0\n",
    "\n",
    "map = Basemap(projection='poly', lat_0 = 40, lon_0 = -100, resolution = 'l', area_thresh = 1000.0, \n",
    "              llcrnrlat=10,urcrnrlat=50,llcrnrlon=-135,urcrnrlon=-20)\n",
    "\n",
    "#map = Basemap(projection='nsper', lat_0 = -28, lon_0 = 130, resolution = 'l', area_thresh = 1000.0, \n",
    "#              satellite_height=h*1000.0)\n",
    "\n",
    "#map.drawcoastlines()\n",
    "#map.drawcountries()\n",
    "#map.fillcontinents(color='coral')\n",
    "\n",
    "#map.drawmeridians(np.arange(0, 360, 30))\n",
    "#map.drawparallels(np.arange(-90, 90, 30))\n",
    "\n",
    "x,y = map(LonD, LatD)\n",
    "\n",
    "map.scatter(x, y, s=20, marker='o', facecolor='y', edgecolor='k')\n",
    "\n",
    "map.warpimage(image='Earth.png')\n",
    "\n",
    "map.ax = ax"
   ]
  },
  {
   "cell_type": "code",
   "execution_count": null,
   "id": "c58caaa6",
   "metadata": {
    "collapsed": false,
    "jupyter": {
     "outputs_hidden": false
    }
   },
   "outputs": [],
   "source": [
    "fig.savefig('NA_Sphere.png', dpi=200, bbox_inches='tight',pad_inches=0.1)"
   ]
  },
  {
   "cell_type": "code",
   "execution_count": null,
   "id": "929aaed6",
   "metadata": {
    "collapsed": false,
    "jupyter": {
     "outputs_hidden": false
    }
   },
   "outputs": [],
   "source": []
  }
 ],
 "metadata": {
  "kernelspec": {
   "display_name": "Python 3 (ipykernel)",
   "language": "python",
   "name": "python3"
  },
  "language_info": {
   "codemirror_mode": {
    "name": "ipython",
    "version": 3
   },
   "file_extension": ".py",
   "mimetype": "text/x-python",
   "name": "python",
   "nbconvert_exporter": "python",
   "pygments_lexer": "ipython3",
   "version": "3.9.7"
  }
 },
 "nbformat": 4,
 "nbformat_minor": 5
}
