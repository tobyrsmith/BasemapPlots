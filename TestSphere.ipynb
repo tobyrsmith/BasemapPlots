{
 "metadata": {
  "name": ""
 },
 "nbformat": 3,
 "nbformat_minor": 0,
 "worksheets": [
  {
   "cells": [
    {
     "cell_type": "code",
     "collapsed": false,
     "input": [
      "%pylab inline\n",
      "import numpy as np\n",
      "import matplotlib.pyplot as plt\n",
      "from mpl_toolkits.basemap import Basemap\n",
      "\n",
      "plt.rc('axes', grid=False)   # turn off the background grid for images\n",
      "plt.rc('axes', facecolor='1.0') "
     ],
     "language": "python",
     "metadata": {},
     "outputs": []
    },
    {
     "cell_type": "code",
     "collapsed": false,
     "input": [
      "Topo = plt.imread('Earth_50.png')\n",
      "print Topo.shape, Topo.dtype"
     ],
     "language": "python",
     "metadata": {},
     "outputs": []
    },
    {
     "cell_type": "markdown",
     "metadata": {},
     "source": [
      "### Impact Craters"
     ]
    },
    {
     "cell_type": "code",
     "collapsed": false,
     "input": [
      "TestLat = np.array([0,45,60,-45,-60])\n",
      "TestLon = np.array([0,-45,-90,45,90])\n",
      "\n",
      "LatD,LatM,LonD,LonM = np.loadtxt('World.csv', delimiter=',', usecols=(2,3,4,5), unpack=True)\n",
      "\n",
      "#ImY,ImX = Topo.shape[0:-1]\n",
      "\n",
      "#MapY = -ImY/180.0 * LatD + ImY/2.0\n",
      "#MapX = (ImX/360.0 * LonD) + ImX/2.0\n",
      "\n",
      "#mask1 = np.where(MapX > ImX)\n",
      "#MapX[mask1] -= ImX"
     ],
     "language": "python",
     "metadata": {},
     "outputs": []
    },
    {
     "cell_type": "code",
     "collapsed": false,
     "input": [
      "fig, ax = plt.subplots(1,1)\n",
      "fig.set_size_inches(10,7)\n",
      "\n",
      "map = Basemap(projection='robin', lat_0 = 0, lon_0 = 0, resolution = 'l', area_thresh = 1000.0)\n",
      "              #,llcrnrlat=-80,urcrnrlat=80,llcrnrlon=-180,urcrnrlon=180)\n",
      "\n",
      "#map.drawcoastlines()\n",
      "#map.drawcountries()\n",
      "#map.fillcontinents(color='coral')\n",
      "\n",
      "#map.drawmeridians(np.arange(0, 360, 30))\n",
      "#map.drawparallels(np.arange(-90, 90, 30))\n",
      "\n",
      "x,y = map(LonD, LatD)\n",
      "\n",
      "#map.plot(x, y, marker=\"o\", color='y', markersize=5, linestyle='None', edgecolor='k')\n",
      "\n",
      "map.scatter(x, y, s=10, marker='o', facecolor='y', edgecolor='k')\n",
      "\n",
      "map.warpimage(image='Earth_50.png')\n",
      "\n",
      "map.ax = ax"
     ],
     "language": "python",
     "metadata": {},
     "outputs": []
    },
    {
     "cell_type": "code",
     "collapsed": false,
     "input": [
      "#fig.savefig('XXX.png', dpi=200, bbox_inches='tight',pad_inches=0.1)"
     ],
     "language": "python",
     "metadata": {},
     "outputs": []
    },
    {
     "cell_type": "code",
     "collapsed": false,
     "input": [
      "fig, ax = plt.subplots(1,1)\n",
      "fig.set_size_inches(10,7)\n",
      "\n",
      "h = 6000.0\n",
      "\n",
      "map = Basemap(projection='poly', lat_0 = 40, lon_0 = -100, resolution = 'l', area_thresh = 1000.0, \n",
      "              llcrnrlat=10,urcrnrlat=50,llcrnrlon=-135,urcrnrlon=-20)\n",
      "\n",
      "#map = Basemap(projection='nsper', lat_0 = -28, lon_0 = 130, resolution = 'l', area_thresh = 1000.0, \n",
      "#              satellite_height=h*1000.0)\n",
      "\n",
      "#map.drawcoastlines()\n",
      "#map.drawcountries()\n",
      "#map.fillcontinents(color='coral')\n",
      "\n",
      "#map.drawmeridians(np.arange(0, 360, 30))\n",
      "#map.drawparallels(np.arange(-90, 90, 30))\n",
      "\n",
      "x,y = map(LonD, LatD)\n",
      "\n",
      "map.scatter(x, y, s=20, marker='o', facecolor='y', edgecolor='k')\n",
      "\n",
      "map.warpimage(image='Earth.png')\n",
      "\n",
      "map.ax = ax"
     ],
     "language": "python",
     "metadata": {},
     "outputs": []
    },
    {
     "cell_type": "code",
     "collapsed": false,
     "input": [
      "fig.savefig('NA_Sphere.png', dpi=200, bbox_inches='tight',pad_inches=0.1)"
     ],
     "language": "python",
     "metadata": {},
     "outputs": []
    },
    {
     "cell_type": "code",
     "collapsed": false,
     "input": [],
     "language": "python",
     "metadata": {},
     "outputs": []
    }
   ],
   "metadata": {}
  }
 ]
}