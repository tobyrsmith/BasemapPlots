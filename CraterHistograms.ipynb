{
 "metadata": {
  "name": ""
 },
 "nbformat": 3,
 "nbformat_minor": 0,
 "worksheets": [
  {
   "cells": [
    {
     "cell_type": "markdown",
     "metadata": {},
     "source": [
      "### Crater Histograms"
     ]
    },
    {
     "cell_type": "code",
     "collapsed": false,
     "input": [
      "%pylab inline\n",
      "import numpy as np\n",
      "import matplotlib.pyplot as plt"
     ],
     "language": "python",
     "metadata": {},
     "outputs": [
      {
       "output_type": "stream",
       "stream": "stdout",
       "text": [
        "Populating the interactive namespace from numpy and matplotlib\n"
       ]
      }
     ],
     "prompt_number": 219
    },
    {
     "cell_type": "code",
     "collapsed": false,
     "input": [
      "DM = np.loadtxt('LCraters.dat', usecols=(0,), unpack=True)\n",
      "DV = np.loadtxt('VenusCratersD.dat', usecols=(1,), unpack=True)\n",
      "DNA = np.loadtxt('NorthAmericaD.dat', unpack=True)"
     ],
     "language": "python",
     "metadata": {},
     "outputs": [],
     "prompt_number": 220
    },
    {
     "cell_type": "code",
     "collapsed": false,
     "input": [
      "#print DNA"
     ],
     "language": "python",
     "metadata": {},
     "outputs": [],
     "prompt_number": 221
    },
    {
     "cell_type": "code",
     "collapsed": false,
     "input": [
      "def log_10_product(x, pos):\n",
      "    if (x < 1.0):\n",
      "      return '%4.2f' % (x)\n",
      "    else:\n",
      "      return '%i' % (x)"
     ],
     "language": "python",
     "metadata": {},
     "outputs": [],
     "prompt_number": 222
    },
    {
     "cell_type": "code",
     "collapsed": false,
     "input": [
      "tfont = {\n",
      "    'family' : 'DejaVu Serif',\n",
      "    'weight' : 'bold',\n",
      "    'size' : 14}\n",
      "\n",
      "plt.rc('font', **tfont)\n",
      "plt.rc(\"axes\", linewidth=3.0)\n",
      "plt.rc('axes', grid=False)\n",
      "\n",
      "formatter = plt.FuncFormatter(log_10_product)"
     ],
     "language": "python",
     "metadata": {},
     "outputs": [],
     "prompt_number": 223
    },
    {
     "cell_type": "code",
     "collapsed": false,
     "input": [
      "# Make sqrt(2) bins\n",
      "\n",
      "n = 16\n",
      "a,b = 1,1\n",
      "\n",
      "Bins = np.zeros(n)\n",
      "\n",
      "for i in range(n):\n",
      "    a,b = b,b*np.sqrt(2)\n",
      "    \n",
      "    Bins[i] = a\n",
      "    \n",
      "Width = (Bins[1:] - Bins[:-1])"
     ],
     "language": "python",
     "metadata": {},
     "outputs": [],
     "prompt_number": 224
    },
    {
     "cell_type": "code",
     "collapsed": false,
     "input": [
      "#print Bins, Width"
     ],
     "language": "python",
     "metadata": {},
     "outputs": [],
     "prompt_number": 225
    },
    {
     "cell_type": "code",
     "collapsed": false,
     "input": [
      "# HARTMANN\u2019S PRODUCTION FUNCTION\n",
      "# 1.41 km < DL < 64 km\n",
      "# http://adsabs.harvard.edu/abs/2001SSRv...96...55N\n",
      "\n",
      "#log N = \u22122.616 \u2212 3.82 log DL , DL < 1.41 km\n",
      "#log N = \u22122.920 \u2212 1.80 log DL , 1.41 km < DL < 64 km\n",
      "#log N = \u22122.198 \u2212 2.20 log DL , DL > 64 km\n",
      "\n",
      "N = -2.920 - 1.80 * np.log(Bins[:-1])\n",
      "\n",
      "FakeMoon = exp(N) * 1.8e3\n",
      "\n",
      "#print FakeMoon\n",
      "#print len(FakeMoon)"
     ],
     "language": "python",
     "metadata": {},
     "outputs": [],
     "prompt_number": 226
    },
    {
     "cell_type": "code",
     "collapsed": false,
     "input": [
      "VHist,BinEdge = np.histogram(DV, bins=Bins)\n",
      "\n",
      "# Venus Surface Area = 460.2 Million sq km\n",
      "\n",
      "VHistNorm = VHist / 460.2\n",
      "\n",
      "#print VHist\n",
      "#print VHistNorm"
     ],
     "language": "python",
     "metadata": {},
     "outputs": [],
     "prompt_number": 227
    },
    {
     "cell_type": "code",
     "collapsed": false,
     "input": [
      "NAHist,BinEdge = np.histogram(DNA, bins=Bins)\n",
      "\n",
      "# North America Surface Area = 24.71 Million sq km\n",
      "\n",
      "NAHistNorm = NAHist / 24.71\n",
      "\n",
      "#print NAHist\n",
      "#print NAHistNorm"
     ],
     "language": "python",
     "metadata": {},
     "outputs": [],
     "prompt_number": 228
    },
    {
     "cell_type": "code",
     "collapsed": false,
     "input": [
      "X = np.linspace(0,500,500)\n",
      "Y = X**(-2) * 100\n",
      "\n",
      "fig, ax = plt.subplots(1,1)\n",
      "fig.set_size_inches(10,7)\n",
      "\n",
      "#ax.grid(b=True, which='major')\n",
      "\n",
      "ax.set_xscale('log')\n",
      "ax.set_yscale('log', nonposy='clip')\n",
      "ax.set_ylim(0.005,200)\n",
      "ax.set_xlim(1,200)\n",
      "\n",
      "ax.yaxis.set_major_formatter(formatter)\n",
      "ax.xaxis.set_major_formatter(formatter)\n",
      "\n",
      "ax.set_xlabel('Crater Diameter (km)')\n",
      "ax.set_ylabel('Number per million sq km')\n",
      "\n",
      "\n",
      "ax.bar(Bins[:-1], FakeMoon, width=Width, color='r');\n",
      "ax.bar(Bins[:-1], VHistNorm, width=Width, color='g', alpha=1.0);\n",
      "#ax.bar(Bins[:-1], NAHistNorm, width=Width, color='b', alpha=0.5);"
     ],
     "language": "python",
     "metadata": {},
     "outputs": [
      {
       "metadata": {},
       "output_type": "display_data",
       "png": "[encoded data removed]",
       "text": [
        "<matplotlib.figure.Figure at 0xbdfec4c>"
       ]
      }
     ],
     "prompt_number": 229
    },
    {
     "cell_type": "code",
     "collapsed": false,
     "input": [
      "# Venus 646 Craters >= 10 km over 460.2 million sq km\n",
      "# N(10) = 1.4\n",
      "\n",
      "# North America 29 craters >= 10 km over 24.71 milliom sq km\n",
      "# N(10) = 1.2"
     ],
     "language": "python",
     "metadata": {},
     "outputs": []
    }
   ],
   "metadata": {}
  }
 ]
}