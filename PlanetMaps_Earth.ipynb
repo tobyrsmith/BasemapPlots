{
 "cells": [
  {
   "cell_type": "code",
   "execution_count": null,
   "id": "2e2a0685",
   "metadata": {
    "collapsed": false,
    "jupyter": {
     "outputs_hidden": false
    }
   },
   "outputs": [],
   "source": [
    "import numpy as np\n",
    "import matplotlib.pyplot as plt\n",
    "\n",
    "plt.rc('axes', grid=False)   # turn off the background grid for images"
   ]
  },
  {
   "cell_type": "code",
   "execution_count": null,
   "id": "448ff6f2",
   "metadata": {
    "collapsed": false,
    "jupyter": {
     "outputs_hidden": false
    }
   },
   "outputs": [],
   "source": [
    "Topo = plt.imread('Earth_50.png')\n",
    "print Topo.shape, Topo.dtype"
   ]
  },
  {
   "cell_type": "markdown",
   "id": "3774a766",
   "metadata": {},
   "source": [
    "### Impact Craters"
   ]
  },
  {
   "cell_type": "code",
   "execution_count": null,
   "id": "67eb4bb8",
   "metadata": {
    "collapsed": false,
    "jupyter": {
     "outputs_hidden": false
    }
   },
   "outputs": [],
   "source": [
    "TestLat = np.array([0,45,60,-45,-60])\n",
    "TestLon = np.array([0,-45,-90,45,90])\n",
    "\n",
    "LatD,LatM,LonD,LonM = np.loadtxt('World.csv', delimiter=',', usecols=(2,3,4,5), unpack=True)\n",
    "\n",
    "ImY,ImX = Topo.shape[0:-1]\n",
    "\n",
    "MapY = -ImY/180.0 * LatD + ImY/2.0\n",
    "MapX = (ImX/360.0 * LonD) + ImX/2.0\n",
    "\n",
    "#mask1 = np.where(MapX > ImX)\n",
    "#MapX[mask1] -= ImX"
   ]
  },
  {
   "cell_type": "code",
   "execution_count": null,
   "id": "7ab894a1",
   "metadata": {
    "collapsed": false,
    "jupyter": {
     "outputs_hidden": false
    }
   },
   "outputs": [],
   "source": [
    "#fig = plt.figure()\n",
    "#ax = fig.add_axes([0.0, 0.0, 1.0, 1.0])\n",
    "\n",
    "fig, ax = plt.subplots(1,1)\n",
    "fig.set_size_inches(10,5)\n",
    "fig.tight_layout()\n",
    "\n",
    "ax.autoscale_view('tight')\n",
    "ax.set_axis_off()\n",
    "\n",
    "ax.scatter(MapX,MapY,marker='o',s=30,color='y', edgecolor='k')\n",
    "ax.imshow(Topo)\n"
   ]
  },
  {
   "cell_type": "code",
   "execution_count": null,
   "id": "da887ca2",
   "metadata": {
    "collapsed": false,
    "jupyter": {
     "outputs_hidden": false
    }
   },
   "outputs": [],
   "source": [
    "fig.savefig('EarthCraters_RAW.png', dpi=300, bbox_inches='tight',pad_inches=0)"
   ]
  },
  {
   "cell_type": "code",
   "execution_count": null,
   "id": "134b3a4d",
   "metadata": {
    "collapsed": false,
    "jupyter": {
     "outputs_hidden": false
    }
   },
   "outputs": [],
   "source": []
  }
 ],
 "metadata": {
  "kernelspec": {
   "display_name": "Python 3 (ipykernel)",
   "language": "python",
   "name": "python3"
  },
  "language_info": {
   "codemirror_mode": {
    "name": "ipython",
    "version": 3
   },
   "file_extension": ".py",
   "mimetype": "text/x-python",
   "name": "python",
   "nbconvert_exporter": "python",
   "pygments_lexer": "ipython3",
   "version": "3.9.7"
  }
 },
 "nbformat": 4,
 "nbformat_minor": 5
}
