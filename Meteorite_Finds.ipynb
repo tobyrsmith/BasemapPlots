{
 "metadata": {
  "name": ""
 },
 "nbformat": 3,
 "nbformat_minor": 0,
 "worksheets": [
  {
   "cells": [
    {
     "cell_type": "code",
     "collapsed": false,
     "input": [
      "%pylab inline\n",
      "import numpy as np\n",
      "import matplotlib.pyplot as plt\n",
      "from mpl_toolkits.basemap import Basemap\n",
      "\n",
      "plt.rc('axes', grid=False)   # turn off the background grid for images\n",
      "plt.rc('axes', facecolor='1.0') "
     ],
     "language": "python",
     "metadata": {},
     "outputs": []
    },
    {
     "cell_type": "code",
     "collapsed": false,
     "input": [
      "Topo = plt.imread('Earth_15.png')\n",
      "print Topo.shape, Topo.dtype"
     ],
     "language": "python",
     "metadata": {},
     "outputs": []
    },
    {
     "cell_type": "markdown",
     "metadata": {},
     "source": [
      "### Meteorites\n",
      "\n",
      "Data from: http://www.theguardian.com/news/datablog/interactive/2013/feb/15/meteorite-fall-map\n",
      "\n",
      "Spreadsheet: https://www.google.com/fusiontables/DataSource?docid=1vHSvjNgCIl6kRhFXPHhvESnnYx_ShToJWtWdjm8"
     ]
    },
    {
     "cell_type": "code",
     "collapsed": false,
     "input": [
      "Lat,Lon = np.loadtxt('MetFinds.csv', delimiter=',', unpack=True)"
     ],
     "language": "python",
     "metadata": {},
     "outputs": []
    },
    {
     "cell_type": "code",
     "collapsed": false,
     "input": [
      "fig, ax = plt.subplots(1,1)\n",
      "fig.set_size_inches(10,7)\n",
      "\n",
      "map = Basemap(projection='robin', lat_0 = 0, lon_0 = 0, resolution = 'l', area_thresh = 1000.0)\n",
      "              #,llcrnrlat=-80,urcrnrlat=80,llcrnrlon=-180,urcrnrlon=180)\n",
      "\n",
      "#map.drawcoastlines()\n",
      "#map.drawcountries()\n",
      "#map.fillcontinents(color='coral')\n",
      "\n",
      "#map.drawmeridians(np.arange(0, 360, 10))\n",
      "#map.drawparallels(np.arange(-90, 90, 10))\n",
      "\n",
      "x,y = map(Lon, Lat)\n",
      "\n",
      "map.scatter(x, y, s=10, marker='o', facecolor='y', edgecolor='k')\n",
      "\n",
      "#map.warpimage(image='Earth_50.png')\n",
      "\n",
      "map.bluemarble()\n",
      "\n",
      "map.ax = ax"
     ],
     "language": "python",
     "metadata": {},
     "outputs": []
    },
    {
     "cell_type": "code",
     "collapsed": false,
     "input": [
      "fig.savefig('MeteoriteFinds.png', dpi=250, bbox_inches='tight',pad_inches=0.1)"
     ],
     "language": "python",
     "metadata": {},
     "outputs": []
    },
    {
     "cell_type": "code",
     "collapsed": false,
     "input": [
      "fig, ax = plt.subplots(1,1)\n",
      "fig.set_size_inches(10,10)\n",
      "\n",
      "h = 3500.0\n",
      "\n",
      "map = Basemap(projection='nsper', lon_0=-95, lat_0=40, resolution='l', area_thresh = 1000.0,\n",
      "              satellite_height=h*1000.0)\n",
      "\n",
      "map.drawcoastlines()\n",
      "map.drawcountries()\n",
      "map.drawstates()\n",
      "\n",
      "x,y = map(Lon, Lat)\n",
      "\n",
      "map.scatter(x, y, s=10, marker='o', facecolor='y', edgecolor='k')\n",
      "\n",
      "#map.warpimage(image='Earth.png')\n",
      "map.bluemarble()\n",
      "\n",
      "map.ax = ax"
     ],
     "language": "python",
     "metadata": {},
     "outputs": []
    },
    {
     "cell_type": "code",
     "collapsed": false,
     "input": [
      "fig.savefig('MeteoriteFinds_NA.png', dpi=250, bbox_inches='tight',pad_inches=0.1)"
     ],
     "language": "python",
     "metadata": {},
     "outputs": []
    },
    {
     "cell_type": "code",
     "collapsed": false,
     "input": [
      "fig, ax = plt.subplots(1,1)\n",
      "fig.set_size_inches(10,10)\n",
      "\n",
      "map = Basemap(projection='ortho', lon_0=20, lat_0=0, resolution='l', area_thresh = 1000.0)\n",
      "\n",
      "#map.drawcoastlines()\n",
      "#map.drawcountries()\n",
      "\n",
      "#map.drawmeridians(np.arange(0, 360, 10))\n",
      "#map.drawparallels(np.arange(-90, 90, 10))\n",
      "\n",
      "x,y = map(Lon, Lat)\n",
      "map.scatter(x, y, s=10, marker='o', facecolor='y', edgecolor='k')\n",
      "\n",
      "#map.warpimage(image='Earth.png')\n",
      "map.bluemarble()\n",
      "\n",
      "map.ax = ax"
     ],
     "language": "python",
     "metadata": {},
     "outputs": []
    },
    {
     "cell_type": "code",
     "collapsed": false,
     "input": [
      "fig.savefig('MeteoriteFinds_Af.png', dpi=250, bbox_inches='tight',pad_inches=0.1)"
     ],
     "language": "python",
     "metadata": {},
     "outputs": []
    },
    {
     "cell_type": "code",
     "collapsed": false,
     "input": [
      "fig, ax = plt.subplots(1,1)\n",
      "fig.set_size_inches(10,10)\n",
      "\n",
      "h = 5000.0\n",
      "\n",
      "map = Basemap(projection='nsper', lon_0=130, lat_0=-30, resolution='l', area_thresh = 1000.0,\n",
      "              satellite_height=h*1000.0)\n",
      "\n",
      "#map.drawcoastlines()\n",
      "#map.drawcountries()\n",
      "\n",
      "#map.drawmeridians(np.arange(0, 360, 10))\n",
      "#map.drawparallels(np.arange(-90, 90, 10))\n",
      "\n",
      "x,y = map(Lon, Lat)\n",
      "map.scatter(x, y, s=10, marker='o', facecolor='y', edgecolor='k')\n",
      "\n",
      "map.warpimage(image='Earth.png')\n",
      "map.bluemarble()\n",
      "\n",
      "map.ax = ax"
     ],
     "language": "python",
     "metadata": {},
     "outputs": []
    },
    {
     "cell_type": "code",
     "collapsed": false,
     "input": [
      "fig.savefig('MeteoriteFinds_Au.png', dpi=250, bbox_inches='tight',pad_inches=0.1)"
     ],
     "language": "python",
     "metadata": {},
     "outputs": []
    },
    {
     "cell_type": "code",
     "collapsed": false,
     "input": [
      "fig, ax = plt.subplots(1,1)\n",
      "fig.set_size_inches(10,10)\n",
      "\n",
      "h = 5000.0\n",
      "\n",
      "map = Basemap(projection='nsper', lon_0=0, lat_0=-90, resolution='l', area_thresh = 1000.0,\n",
      "              satellite_height=h*1000.0)\n",
      "\n",
      "#map.drawcoastlines()\n",
      "#map.drawcountries()\n",
      "\n",
      "#map.drawmeridians(np.arange(0, 360, 10))\n",
      "#map.drawparallels(np.arange(-90, 90, 10))\n",
      "\n",
      "x,y = map(Lon, Lat)\n",
      "map.scatter(x, y, s=10, marker='o', facecolor='y', edgecolor='k')\n",
      "\n",
      "#map.warpimage(image='Earth.png')\n",
      "map.bluemarble()\n",
      "\n",
      "map.ax = ax"
     ],
     "language": "python",
     "metadata": {},
     "outputs": []
    },
    {
     "cell_type": "code",
     "collapsed": false,
     "input": [
      "fig.savefig('MeteoriteFinds_Ant.png', dpi=250, bbox_inches='tight',pad_inches=0.1)"
     ],
     "language": "python",
     "metadata": {},
     "outputs": []
    },
    {
     "cell_type": "code",
     "collapsed": false,
     "input": [],
     "language": "python",
     "metadata": {},
     "outputs": []
    }
   ],
   "metadata": {}
  }
 ]
}