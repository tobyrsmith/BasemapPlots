{
 "cells": [
  {
   "cell_type": "code",
   "execution_count": null,
   "id": "5ae6f208",
   "metadata": {
    "collapsed": false,
    "jupyter": {
     "outputs_hidden": false
    }
   },
   "outputs": [],
   "source": [
    "import numpy as np\n",
    "import matplotlib.pyplot as plt\n",
    "from mpl_toolkits.basemap import Basemap\n",
    "\n",
    "plt.rc('axes', grid=False)   # turn off the background grid for images\n",
    "plt.rc('axes', facecolor='1.0') "
   ]
  },
  {
   "cell_type": "code",
   "execution_count": null,
   "id": "f532ac83",
   "metadata": {
    "collapsed": false,
    "jupyter": {
     "outputs_hidden": false
    }
   },
   "outputs": [],
   "source": [
    "Topo = plt.imread('Earth_15.png')\n",
    "print Topo.shape, Topo.dtype"
   ]
  },
  {
   "cell_type": "markdown",
   "id": "da2f5ed4",
   "metadata": {},
   "source": [
    "### Meteorites\n",
    "\n",
    "Data from: http://www.theguardian.com/news/datablog/interactive/2013/feb/15/meteorite-fall-map\n",
    "\n",
    "Spreadsheet: https://www.google.com/fusiontables/DataSource?docid=1vHSvjNgCIl6kRhFXPHhvESnnYx_ShToJWtWdjm8"
   ]
  },
  {
   "cell_type": "code",
   "execution_count": null,
   "id": "1bf11b13",
   "metadata": {
    "collapsed": false,
    "jupyter": {
     "outputs_hidden": false
    }
   },
   "outputs": [],
   "source": [
    "Lat,Lon = np.loadtxt('MetFinds.csv', delimiter=',', unpack=True)"
   ]
  },
  {
   "cell_type": "code",
   "execution_count": null,
   "id": "70dc6b05",
   "metadata": {
    "collapsed": false,
    "jupyter": {
     "outputs_hidden": false
    }
   },
   "outputs": [],
   "source": [
    "fig, ax = plt.subplots(1,1)\n",
    "fig.set_size_inches(10,7)\n",
    "\n",
    "map = Basemap(projection='robin', lat_0 = 0, lon_0 = 0, resolution = 'l', area_thresh = 1000.0)\n",
    "              #,llcrnrlat=-80,urcrnrlat=80,llcrnrlon=-180,urcrnrlon=180)\n",
    "\n",
    "#map.drawcoastlines()\n",
    "#map.drawcountries()\n",
    "#map.fillcontinents(color='coral')\n",
    "\n",
    "#map.drawmeridians(np.arange(0, 360, 10))\n",
    "#map.drawparallels(np.arange(-90, 90, 10))\n",
    "\n",
    "x,y = map(Lon, Lat)\n",
    "\n",
    "map.scatter(x, y, s=10, marker='o', facecolor='y', edgecolor='k')\n",
    "\n",
    "#map.warpimage(image='Earth_50.png')\n",
    "\n",
    "map.bluemarble()\n",
    "\n",
    "map.ax = ax"
   ]
  },
  {
   "cell_type": "code",
   "execution_count": null,
   "id": "19810879",
   "metadata": {
    "collapsed": false,
    "jupyter": {
     "outputs_hidden": false
    }
   },
   "outputs": [],
   "source": [
    "fig.savefig('MeteoriteFinds.png', dpi=250, bbox_inches='tight',pad_inches=0.1)"
   ]
  },
  {
   "cell_type": "code",
   "execution_count": null,
   "id": "9e43e5f8",
   "metadata": {
    "collapsed": false,
    "jupyter": {
     "outputs_hidden": false
    }
   },
   "outputs": [],
   "source": [
    "fig, ax = plt.subplots(1,1)\n",
    "fig.set_size_inches(10,10)\n",
    "\n",
    "h = 3500.0\n",
    "\n",
    "map = Basemap(projection='nsper', lon_0=-95, lat_0=40, resolution='l', area_thresh = 1000.0,\n",
    "              satellite_height=h*1000.0)\n",
    "\n",
    "map.drawcoastlines()\n",
    "map.drawcountries()\n",
    "map.drawstates()\n",
    "\n",
    "x,y = map(Lon, Lat)\n",
    "\n",
    "map.scatter(x, y, s=10, marker='o', facecolor='y', edgecolor='k')\n",
    "\n",
    "#map.warpimage(image='Earth.png')\n",
    "map.bluemarble()\n",
    "\n",
    "map.ax = ax"
   ]
  },
  {
   "cell_type": "code",
   "execution_count": null,
   "id": "f14b123a",
   "metadata": {
    "collapsed": false,
    "jupyter": {
     "outputs_hidden": false
    }
   },
   "outputs": [],
   "source": [
    "fig.savefig('MeteoriteFinds_NA.png', dpi=250, bbox_inches='tight',pad_inches=0.1)"
   ]
  },
  {
   "cell_type": "code",
   "execution_count": null,
   "id": "abb9544a",
   "metadata": {
    "collapsed": false,
    "jupyter": {
     "outputs_hidden": false
    }
   },
   "outputs": [],
   "source": [
    "fig, ax = plt.subplots(1,1)\n",
    "fig.set_size_inches(10,10)\n",
    "\n",
    "map = Basemap(projection='ortho', lon_0=20, lat_0=0, resolution='l', area_thresh = 1000.0)\n",
    "\n",
    "#map.drawcoastlines()\n",
    "#map.drawcountries()\n",
    "\n",
    "#map.drawmeridians(np.arange(0, 360, 10))\n",
    "#map.drawparallels(np.arange(-90, 90, 10))\n",
    "\n",
    "x,y = map(Lon, Lat)\n",
    "map.scatter(x, y, s=10, marker='o', facecolor='y', edgecolor='k')\n",
    "\n",
    "#map.warpimage(image='Earth.png')\n",
    "map.bluemarble()\n",
    "\n",
    "map.ax = ax"
   ]
  },
  {
   "cell_type": "code",
   "execution_count": null,
   "id": "c0018ab9",
   "metadata": {
    "collapsed": false,
    "jupyter": {
     "outputs_hidden": false
    }
   },
   "outputs": [],
   "source": [
    "fig.savefig('MeteoriteFinds_Af.png', dpi=250, bbox_inches='tight',pad_inches=0.1)"
   ]
  },
  {
   "cell_type": "code",
   "execution_count": null,
   "id": "5ee65bad",
   "metadata": {
    "collapsed": false,
    "jupyter": {
     "outputs_hidden": false
    }
   },
   "outputs": [],
   "source": [
    "fig, ax = plt.subplots(1,1)\n",
    "fig.set_size_inches(10,10)\n",
    "\n",
    "h = 5000.0\n",
    "\n",
    "map = Basemap(projection='nsper', lon_0=130, lat_0=-30, resolution='l', area_thresh = 1000.0,\n",
    "              satellite_height=h*1000.0)\n",
    "\n",
    "#map.drawcoastlines()\n",
    "#map.drawcountries()\n",
    "\n",
    "#map.drawmeridians(np.arange(0, 360, 10))\n",
    "#map.drawparallels(np.arange(-90, 90, 10))\n",
    "\n",
    "x,y = map(Lon, Lat)\n",
    "map.scatter(x, y, s=10, marker='o', facecolor='y', edgecolor='k')\n",
    "\n",
    "map.warpimage(image='Earth.png')\n",
    "map.bluemarble()\n",
    "\n",
    "map.ax = ax"
   ]
  },
  {
   "cell_type": "code",
   "execution_count": null,
   "id": "670b7686",
   "metadata": {
    "collapsed": false,
    "jupyter": {
     "outputs_hidden": false
    }
   },
   "outputs": [],
   "source": [
    "fig.savefig('MeteoriteFinds_Au.png', dpi=250, bbox_inches='tight',pad_inches=0.1)"
   ]
  },
  {
   "cell_type": "code",
   "execution_count": null,
   "id": "f700bd58",
   "metadata": {
    "collapsed": false,
    "jupyter": {
     "outputs_hidden": false
    }
   },
   "outputs": [],
   "source": [
    "fig, ax = plt.subplots(1,1)\n",
    "fig.set_size_inches(10,10)\n",
    "\n",
    "h = 5000.0\n",
    "\n",
    "map = Basemap(projection='nsper', lon_0=0, lat_0=-90, resolution='l', area_thresh = 1000.0,\n",
    "              satellite_height=h*1000.0)\n",
    "\n",
    "#map.drawcoastlines()\n",
    "#map.drawcountries()\n",
    "\n",
    "#map.drawmeridians(np.arange(0, 360, 10))\n",
    "#map.drawparallels(np.arange(-90, 90, 10))\n",
    "\n",
    "x,y = map(Lon, Lat)\n",
    "map.scatter(x, y, s=10, marker='o', facecolor='y', edgecolor='k')\n",
    "\n",
    "#map.warpimage(image='Earth.png')\n",
    "map.bluemarble()\n",
    "\n",
    "map.ax = ax"
   ]
  },
  {
   "cell_type": "code",
   "execution_count": null,
   "id": "c9a8687c",
   "metadata": {
    "collapsed": false,
    "jupyter": {
     "outputs_hidden": false
    }
   },
   "outputs": [],
   "source": [
    "fig.savefig('MeteoriteFinds_Ant.png', dpi=250, bbox_inches='tight',pad_inches=0.1)"
   ]
  },
  {
   "cell_type": "code",
   "execution_count": null,
   "id": "b9e812db",
   "metadata": {
    "collapsed": false,
    "jupyter": {
     "outputs_hidden": false
    }
   },
   "outputs": [],
   "source": []
  }
 ],
 "metadata": {
  "kernelspec": {
   "display_name": "Python 3 (ipykernel)",
   "language": "python",
   "name": "python3"
  },
  "language_info": {
   "codemirror_mode": {
    "name": "ipython",
    "version": 3
   },
   "file_extension": ".py",
   "mimetype": "text/x-python",
   "name": "python",
   "nbconvert_exporter": "python",
   "pygments_lexer": "ipython3",
   "version": "3.9.7"
  }
 },
 "nbformat": 4,
 "nbformat_minor": 5
}
