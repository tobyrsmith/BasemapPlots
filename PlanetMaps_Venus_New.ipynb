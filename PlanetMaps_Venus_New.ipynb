{
 "cells": [
  {
   "cell_type": "code",
   "execution_count": null,
   "metadata": {
    "collapsed": false,
    "jupyter": {
     "outputs_hidden": false
    }
   },
   "outputs": [],
   "source": [
    "import numpy as np\n",
    "import matplotlib.pyplot as plt\n",
    "from mpl_toolkits.basemap import Basemap\n",
    "\n",
    "plt.rc('axes', grid=False)   # turn off the background grid for images\n",
    "#plt.rc('axes', facecolor='1.0')"
   ]
  },
  {
   "cell_type": "code",
   "execution_count": null,
   "metadata": {
    "collapsed": false,
    "jupyter": {
     "outputs_hidden": false
    }
   },
   "outputs": [],
   "source": [
    "Topo = plt.imread('VenusTopo.jpg')\n",
    "#print Topo.shape, Topo.dtype"
   ]
  },
  {
   "cell_type": "markdown",
   "metadata": {},
   "source": [
    "### Shield Vols"
   ]
  },
  {
   "cell_type": "code",
   "execution_count": null,
   "metadata": {
    "collapsed": false,
    "jupyter": {
     "outputs_hidden": false
    }
   },
   "outputs": [],
   "source": [
    "TestLat = np.array([0,45,60,-45,-60])\n",
    "TestLon = np.array([0,90,180,270,315])\n",
    "\n",
    "Lat,Lon = np.loadtxt('VenusSF.csv', delimiter=',', usecols=(1,2), unpack=True)\n",
    "\n",
    "#ImY,ImX = Topo.shape[0:-1]\n",
    "\n",
    "#MapY = -ImY/180.0 * Lat + ImY/2.0\n",
    "#MapX = (ImX/360.0 * Lon) + ImX/2.0\n",
    "#mask1 = np.where(MapX > ImX)\n",
    "\n",
    "#MapX[mask1] -= ImX"
   ]
  },
  {
   "cell_type": "code",
   "execution_count": null,
   "metadata": {
    "collapsed": false,
    "jupyter": {
     "outputs_hidden": false
    }
   },
   "outputs": [],
   "source": [
    "fig, ax = plt.subplots(1,1)\n",
    "fig.set_size_inches(10,7)\n",
    "\n",
    "map = Basemap(projection='robin', lat_0 = 0, lon_0 = 0, resolution = 'l', area_thresh = 1000.0)\n",
    "              #,llcrnrlat=-80,urcrnrlat=80,llcrnrlon=-180,urcrnrlon=180)\n",
    "\n",
    "#map.drawcoastlines()\n",
    "#map.drawcountries()\n",
    "#map.fillcontinents(color='coral')\n",
    "\n",
    "#map.drawmeridians(np.arange(0, 360, 10))\n",
    "#map.drawparallels(np.arange(-90, 90, 10))\n",
    "\n",
    "x,y = map(Lon,Lat)\n",
    "\n",
    "map.scatter(x, y, s=15, marker='o', facecolor='y', edgecolor='k')\n",
    "\n",
    "map.warpimage(image='VenusTopo.jpg')\n",
    "\n",
    "#map.bluemarble()\n",
    "\n",
    "map.ax = ax"
   ]
  },
  {
   "cell_type": "code",
   "execution_count": null,
   "metadata": {
    "collapsed": false,
    "jupyter": {
     "outputs_hidden": false
    }
   },
   "outputs": [],
   "source": [
    "fig.savefig('Venus_ShieldVol.png', dpi=300, bbox_inches='tight')#,pad_inches=0)"
   ]
  },
  {
   "cell_type": "markdown",
   "metadata": {},
   "source": [
    "### Impact Craters"
   ]
  },
  {
   "cell_type": "code",
   "execution_count": null,
   "metadata": {
    "collapsed": false,
    "jupyter": {
     "outputs_hidden": false
    }
   },
   "outputs": [],
   "source": [
    "Lat,Lon = np.loadtxt('VenusCratersD.dat', delimiter=',', usecols=(0,1), unpack=True)"
   ]
  },
  {
   "cell_type": "code",
   "execution_count": null,
   "metadata": {
    "collapsed": false,
    "jupyter": {
     "outputs_hidden": false
    }
   },
   "outputs": [],
   "source": [
    "fig, ax = plt.subplots(1,1)\n",
    "fig.set_size_inches(10,7)\n",
    "\n",
    "map = Basemap(projection='robin', lat_0 = 0, lon_0 = 0, resolution = 'l', area_thresh = 1000.0)\n",
    "\n",
    "x,y = map(Lon,Lat)\n",
    "\n",
    "map.scatter(x, y, s=15, marker='o', facecolor='k', edgecolor='#ffffff')\n",
    "\n",
    "map.warpimage(image='VenusTopo.jpg')\n",
    "\n",
    "map.ax = ax"
   ]
  },
  {
   "cell_type": "code",
   "execution_count": null,
   "metadata": {
    "collapsed": false,
    "jupyter": {
     "outputs_hidden": false
    }
   },
   "outputs": [],
   "source": [
    "fig.savefig('Venus_ImCraters.png', dpi=300, bbox_inches='tight')#,pad_inches=0)"
   ]
  },
  {
   "cell_type": "markdown",
   "metadata": {},
   "source": [
    "### Large Vols"
   ]
  },
  {
   "cell_type": "code",
   "execution_count": null,
   "metadata": {
    "collapsed": false,
    "jupyter": {
     "outputs_hidden": false
    }
   },
   "outputs": [],
   "source": [
    "Lat,Lon = np.loadtxt('VenusLV.csv', delimiter=',', usecols=(1,2), unpack=True)"
   ]
  },
  {
   "cell_type": "code",
   "execution_count": null,
   "metadata": {
    "collapsed": false,
    "jupyter": {
     "outputs_hidden": false
    }
   },
   "outputs": [],
   "source": [
    "fig, ax = plt.subplots(1,1)\n",
    "fig.set_size_inches(10,7)\n",
    "\n",
    "map = Basemap(projection='robin', lat_0 = 0, lon_0 = 0, resolution = 'l', area_thresh = 1000.0)\n",
    "\n",
    "x,y = map(Lon,Lat)\n",
    "\n",
    "map.scatter(x, y, s=30, marker='d', facecolor='r', edgecolor='k')\n",
    "\n",
    "map.warpimage(image='VenusTopo.jpg')\n",
    "\n",
    "map.ax = ax"
   ]
  },
  {
   "cell_type": "code",
   "execution_count": null,
   "metadata": {
    "collapsed": false,
    "jupyter": {
     "outputs_hidden": false
    }
   },
   "outputs": [],
   "source": [
    "fig.savefig('Venus_LargeVols.png', dpi=300, bbox_inches='tight')#,pad_inches=0)"
   ]
  },
  {
   "cell_type": "markdown",
   "metadata": {},
   "source": [
    "### Corona and Arachnoids"
   ]
  },
  {
   "cell_type": "code",
   "execution_count": null,
   "metadata": {
    "collapsed": false,
    "jupyter": {
     "outputs_hidden": false
    }
   },
   "outputs": [],
   "source": [
    "Lat,Lon = np.loadtxt('Venus_COAR.csv', delimiter=',', usecols=(1,2), unpack=True)"
   ]
  },
  {
   "cell_type": "code",
   "execution_count": null,
   "metadata": {
    "collapsed": false,
    "jupyter": {
     "outputs_hidden": false
    }
   },
   "outputs": [],
   "source": [
    "fig, ax = plt.subplots(1,1)\n",
    "fig.set_size_inches(10,7)\n",
    "\n",
    "map = Basemap(projection='robin', lat_0 = 0, lon_0 = 0, resolution = 'l', area_thresh = 1000.0)\n",
    "\n",
    "x,y = map(Lon,Lat)\n",
    "\n",
    "map.scatter(x, y, s=30, marker='p', facecolor='#00eeff', edgecolor='k')\n",
    "\n",
    "map.warpimage(image='VenusTopo.jpg')\n",
    "\n",
    "map.ax = ax"
   ]
  },
  {
   "cell_type": "code",
   "execution_count": null,
   "metadata": {
    "collapsed": false,
    "jupyter": {
     "outputs_hidden": false
    }
   },
   "outputs": [],
   "source": [
    "fig.savefig('Venus_Corona.png', dpi=300, bbox_inches='tight')#,pad_inches=0)"
   ]
  },
  {
   "cell_type": "code",
   "execution_count": null,
   "metadata": {
    "collapsed": false,
    "jupyter": {
     "outputs_hidden": false
    }
   },
   "outputs": [],
   "source": [
    "tfont = {\n",
    "    'family' : 'DejaVu Serif',\n",
    "    'weight' : 'bold',\n",
    "    'size' : 14}\n",
    "\n",
    "plt.rc('font', **tfont)\n",
    "plt.rc(\"axes\", linewidth=3.0)\n",
    "plt.rc('axes', grid=False)\n",
    "\n",
    "fig, ax = plt.subplots(1,1)\n",
    "fig.set_size_inches(10,7)\n",
    "\n",
    "ax.set_ylim(0,2500)\n",
    "ax.set_xlim(0,30)\n",
    "\n",
    "ax.set_xlabel('Pressure (GPa)')\n",
    "ax.set_ylabel('Temperature (C)');"
   ]
  },
  {
   "cell_type": "code",
   "execution_count": null,
   "metadata": {},
   "outputs": [],
   "source": [
    "fig.savefig('Basalt_Phase.png', dpi=300, bbox_inches='tight')#,pad_inches=0)"
   ]
  },
  {
   "cell_type": "code",
   "execution_count": null,
   "metadata": {},
   "outputs": [],
   "source": []
  }
 ],
 "metadata": {
  "kernelspec": {
   "display_name": "Python 3 (ipykernel)",
   "language": "python",
   "name": "python3"
  },
  "language_info": {
   "codemirror_mode": {
    "name": "ipython",
    "version": 3
   },
   "file_extension": ".py",
   "mimetype": "text/x-python",
   "name": "python",
   "nbconvert_exporter": "python",
   "pygments_lexer": "ipython3",
   "version": "3.9.7"
  }
 },
 "nbformat": 4,
 "nbformat_minor": 4
}
