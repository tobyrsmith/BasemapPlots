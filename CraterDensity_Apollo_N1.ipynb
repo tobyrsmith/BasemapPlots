{
 "metadata": {
  "name": "",
  "signature": "sha256:9116a4942ab9953886f0fd29918fbd600d67d311db17321be1e5f926a14c96ce"
 },
 "nbformat": 3,
 "nbformat_minor": 0,
 "worksheets": [
  {
   "cells": [
    {
     "cell_type": "markdown",
     "metadata": {},
     "source": [
      "## Apollo Crater Density - N1"
     ]
    },
    {
     "cell_type": "code",
     "collapsed": false,
     "input": [
      "import matplotlib\n",
      "reload(matplotlib)"
     ],
     "language": "python",
     "metadata": {},
     "outputs": []
    },
    {
     "cell_type": "code",
     "collapsed": false,
     "input": [
      "%matplotlib inline\n",
      "\n",
      "import numpy as np\n",
      "import matplotlib.pyplot as plt\n",
      "import pandas as pd\n",
      "import pylab"
     ],
     "language": "python",
     "metadata": {},
     "outputs": []
    },
    {
     "cell_type": "code",
     "collapsed": false,
     "input": [
      "T = pd.read_csv('n1.csv')\n",
      "print T"
     ],
     "language": "python",
     "metadata": {},
     "outputs": []
    },
    {
     "cell_type": "code",
     "collapsed": false,
     "input": [
      "def log_10_product(x, pos):\n",
      "    if (x < 1.0):\n",
      "      return '%3.1f' % (x)\n",
      "    else:\n",
      "      return '%i' % (x)"
     ],
     "language": "python",
     "metadata": {},
     "outputs": []
    },
    {
     "cell_type": "code",
     "collapsed": false,
     "input": [
      "tfont = {\n",
      "    'family' : 'DejaVu Serif',\n",
      "    'weight' : 'bold',\n",
      "    'size' : 14}\n",
      "\n",
      "plt.rc('font', **tfont)\n",
      "plt.rc(\"axes\", linewidth=3.0)\n",
      "plt.rc('axes', grid=False)\n",
      "\n",
      "formatter = plt.FuncFormatter(log_10_product)"
     ],
     "language": "python",
     "metadata": {},
     "outputs": []
    },
    {
     "cell_type": "code",
     "collapsed": false,
     "input": [
      "def ringo(x,a,b,c):\n",
      "    return a * (np.exp(b*x) - 1.0) + (c * x)\n",
      "\n",
      "def george(x,c):\n",
      "    return c*x\n",
      "\n",
      "def john(x,a,b):\n",
      "    return a * (np.exp(b*x) - 1.0)"
     ],
     "language": "python",
     "metadata": {},
     "outputs": []
    },
    {
     "cell_type": "code",
     "collapsed": false,
     "input": [
      "def PlotN(n, o, Fit = False, Save = False, Crust = False):\n",
      "    \n",
      "    A = 7.00875281e-15\n",
      "    B = 9.58714635\n",
      "    C = 12.0\n",
      "    \n",
      "    Z = np.linspace(0,5.0,1000)\n",
      "    \n",
      "    fig, ax = plt.subplots(1,1)\n",
      "    fig.set_size_inches(10,7)\n",
      "\n",
      "#    fig.tight_layout(pad=2.75)\n",
      "\n",
      "    ax.grid(b=True, which='major')\n",
      "\n",
      "    ax.set_yscale('log')\n",
      "    ax.set_xlim(4.5,0)\n",
      "    ax.set_ylim(0.1,2500)\n",
      "    \n",
      "    ax.spines['top'].set_visible(False)\n",
      "    ax.spines['right'].set_visible(False)\n",
      "    ax.get_xaxis().tick_bottom()\n",
      "    ax.get_yaxis().tick_left()\n",
      "    \n",
      "    ax.tick_params('both', length=0, width=0, which='minor')\n",
      "\n",
      "    ax.yaxis.set_major_formatter(formatter)\n",
      "\n",
      "    ax.set_xlabel('Age (billion years)')\n",
      "    ax.set_ylabel('N(1)')\n",
      "    \n",
      "    ax.text(2.75,600,T['Place'][n],fontdict=tfont,fontsize=18)\n",
      "    \n",
      "    if Fit:\n",
      "        #ax.plot(Z,ringo(Z,A,B,C),color='0.50',linestyle='-',linewidth=4)\n",
      "        ax.plot(Z,george(Z,C),color='g',linestyle='--',linewidth=2)\n",
      "    \n",
      "    for i in o:\n",
      "        ax.scatter(T['Age'][i],T['N1'][i],s=100,color=T['Color'][i],alpha=0.5)\n",
      "        #ax.errorbar(T['Age'][i],T['N1'][i],yerr=T['N1Err'][i],color=T['Color'][i],fmt='-',linewidth=3,alpha=0.5)\n",
      "        #ax.errorbar(T['Age'][i],T['N1'][i],xerr=T['AgeErr'][i],color=T['Color'][i],fmt='-',linewidth=3,alpha=0.5);\n",
      "    \n",
      "        \n",
      "    if Crust:\n",
      "        rect = pylab.Rectangle([4.05,370], 0.4, 5000,facecolor='g', alpha = 0.5)\n",
      "        ax.add_patch(rect)\n",
      "\n",
      "    ax.hlines(T['N1'][n],6,T['Age'][n],linestyles='--',color=T['Color'][n],linewidth=2,alpha=0.3)\n",
      "    ax.vlines(T['Age'][n],0.01,T['N1'][n],linestyles='--',color=T['Color'][n],linewidth=2,alpha=0.3)\n",
      "    \n",
      "    ax.scatter(T['Age'][n],T['N1'][n],s=100,color=T['Color'][n],alpha=1.0)\n",
      "    ax.errorbar(T['Age'][n],T['N1'][n],yerr=T['N1Err'][n],color=T['Color'][n],fmt='-',linewidth=3)\n",
      "    ax.errorbar(T['Age'][n],T['N1'][n],xerr=T['AgeErr'][n],color=T['Color'][n],fmt='-',linewidth=3);\n",
      "    \n",
      "    if Save:\n",
      "        figname = T['Place'][n] + \"_N1\" + \".png\"\n",
      "        fig.savefig(figname, dpi=300, bbox_inches='tight')"
     ],
     "language": "python",
     "metadata": {},
     "outputs": []
    },
    {
     "cell_type": "code",
     "collapsed": false,
     "input": [
      "# Blank\n",
      "\n",
      "n = 16\n",
      "o = [16]\n",
      "\n",
      "PlotN(n,o,Save=False)"
     ],
     "language": "python",
     "metadata": {},
     "outputs": []
    },
    {
     "cell_type": "code",
     "collapsed": false,
     "input": [
      "#Apollo 11 - M.Tr.young\n",
      "\n",
      "n = 5\n",
      "o = [5]\n",
      "\n",
      "PlotN(n,o,Save=False)"
     ],
     "language": "python",
     "metadata": {},
     "outputs": []
    },
    {
     "cell_type": "code",
     "collapsed": false,
     "input": [
      "#Apollo 12 - O.Procellarum\n",
      "\n",
      "n = 9\n",
      "o = [5]\n",
      "\n",
      "PlotN(n,o,Save=True)"
     ],
     "language": "python",
     "metadata": {},
     "outputs": []
    },
    {
     "cell_type": "code",
     "collapsed": false,
     "input": [
      "#Apollo 12 - Copernicus\n",
      "\n",
      "n = 10\n",
      "o = [5,9]\n",
      "\n",
      "PlotN(n,o,Save=True)"
     ],
     "language": "python",
     "metadata": {},
     "outputs": []
    },
    {
     "cell_type": "code",
     "collapsed": false,
     "input": [
      "n = 16\n",
      "o = [5,9,10]\n",
      "\n",
      "PlotN(n,o,Save=True)"
     ],
     "language": "python",
     "metadata": {},
     "outputs": []
    },
    {
     "cell_type": "code",
     "collapsed": false,
     "input": [
      "#Apollo 14 - Imb\n",
      "\n",
      "n = 2\n",
      "o = [5,9,10]\n",
      "\n",
      "PlotN(n,o,Save=False)"
     ],
     "language": "python",
     "metadata": {},
     "outputs": []
    },
    {
     "cell_type": "code",
     "collapsed": false,
     "input": [
      "n = 16\n",
      "o = [5,9,10,2]\n",
      "\n",
      "PlotN(n,o,Save=False, Fit=True)"
     ],
     "language": "python",
     "metadata": {},
     "outputs": []
    },
    {
     "cell_type": "code",
     "collapsed": false,
     "input": [
      "#Apollo 15 - Imb_Mare\n",
      "\n",
      "n = 7\n",
      "o = [5,9,10,2,13]\n",
      "\n",
      "PlotN(n,o,Save=False)"
     ],
     "language": "python",
     "metadata": {},
     "outputs": []
    },
    {
     "cell_type": "code",
     "collapsed": false,
     "input": [
      "#Apollo 15 - I\n",
      "\n",
      "n = 16\n",
      "o = [5,9,10,2,13,7]\n",
      "\n",
      "PlotN(n,o,Save=False)"
     ],
     "language": "python",
     "metadata": {},
     "outputs": []
    },
    {
     "cell_type": "code",
     "collapsed": false,
     "input": [
      "#Apollo 15 - Orig Crust\n",
      "\n",
      "n = 15\n",
      "o = [5,9,10,2,13,7]\n",
      "\n",
      "PlotN(n,o,Crust=True,Save=False)"
     ],
     "language": "python",
     "metadata": {},
     "outputs": []
    },
    {
     "cell_type": "code",
     "collapsed": false,
     "input": [
      "n = 16\n",
      "o = [5,9,10,2,13,7,15]\n",
      "\n",
      "PlotN(n,o,Crust=True,Save=True)"
     ],
     "language": "python",
     "metadata": {},
     "outputs": []
    },
    {
     "cell_type": "code",
     "collapsed": false,
     "input": [
      "#Apollo 16 - Nec\n",
      "\n",
      "n = 0\n",
      "o = [5,9,10,2,13,7]\n",
      "\n",
      "PlotN(n,o,Crust=True,Save=True)"
     ],
     "language": "python",
     "metadata": {},
     "outputs": []
    },
    {
     "cell_type": "code",
     "collapsed": false,
     "input": [
      "#Apollo 16 - Nec\n",
      "\n",
      "n = 16\n",
      "o = [5,9,10,2,13,7,0]\n",
      "\n",
      "PlotN(n,o,Crust=True,Save=True)"
     ],
     "language": "python",
     "metadata": {},
     "outputs": []
    },
    {
     "cell_type": "code",
     "collapsed": false,
     "input": [
      "#Apollo 17 - Ser\n",
      "\n",
      "n = 4\n",
      "o = [5,9,10,2,7,0]\n",
      "\n",
      "PlotN(n,o,Crust=True,Save=True)"
     ],
     "language": "python",
     "metadata": {},
     "outputs": []
    },
    {
     "cell_type": "code",
     "collapsed": false,
     "input": [
      "#Apollo 17 - Tycho\n",
      "\n",
      "n = 11\n",
      "o = [5,9,10,2,7,0,4]\n",
      "\n",
      "PlotN(n,o,Crust=True,Save=True)"
     ],
     "language": "python",
     "metadata": {},
     "outputs": []
    },
    {
     "cell_type": "code",
     "collapsed": false,
     "input": [
      "#All\n",
      "\n",
      "n = 14\n",
      "o = [0,1,2,3,4,5,6,7,8,9,10,11,12,13]\n",
      "\n",
      "PlotN(n,o,Crust=True,Save=True,Fit=True)"
     ],
     "language": "python",
     "metadata": {},
     "outputs": []
    },
    {
     "cell_type": "code",
     "collapsed": false,
     "input": [
      "#All\n",
      "\n",
      "n = 16\n",
      "o = [0,1,2,3,4,5,6,7,8,9,10,11,12,13]\n",
      "\n",
      "PlotN(n,o,Crust=True,Save=True,Fit=True)"
     ],
     "language": "python",
     "metadata": {},
     "outputs": []
    },
    {
     "cell_type": "code",
     "collapsed": false,
     "input": [
      "#All\n",
      "\n",
      "n = 16\n",
      "o = []\n",
      "\n",
      "PlotN(n,o,Crust=False,Save=True,Fit=True)"
     ],
     "language": "python",
     "metadata": {},
     "outputs": []
    },
    {
     "cell_type": "code",
     "collapsed": false,
     "input": [],
     "language": "python",
     "metadata": {},
     "outputs": []
    }
   ],
   "metadata": {}
  }
 ]
}