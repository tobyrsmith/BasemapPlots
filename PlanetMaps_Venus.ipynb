{
 "cells": [
  {
   "cell_type": "code",
   "execution_count": null,
   "id": "62d6bc32",
   "metadata": {
    "collapsed": false,
    "jupyter": {
     "outputs_hidden": false
    }
   },
   "outputs": [],
   "source": [
    "import numpy as np\n",
    "import matplotlib.pyplot as plt\n",
    "\n",
    "plt.rc('axes', grid=False)   # turn off the background grid for images"
   ]
  },
  {
   "cell_type": "code",
   "execution_count": null,
   "id": "3ce60e28",
   "metadata": {
    "collapsed": false,
    "jupyter": {
     "outputs_hidden": false
    }
   },
   "outputs": [],
   "source": [
    "Topo = plt.imread('VenusTopo.jpg')\n",
    "print Topo.shape, Topo.dtype"
   ]
  },
  {
   "cell_type": "markdown",
   "id": "aa3a9074",
   "metadata": {},
   "source": [
    "### Shield Vols"
   ]
  },
  {
   "cell_type": "code",
   "execution_count": null,
   "id": "8c82f7db",
   "metadata": {
    "collapsed": false,
    "jupyter": {
     "outputs_hidden": false
    }
   },
   "outputs": [],
   "source": [
    "TestLat = np.array([0,45,60,-45,-60])\n",
    "TestLon = np.array([0,90,180,270,315])\n",
    "\n",
    "Lat,Lon = np.loadtxt('VenusSF.csv', delimiter=',', usecols=(1,2), unpack=True)\n",
    "\n",
    "ImY,ImX = Topo.shape[0:-1]\n",
    "\n",
    "MapY = -ImY/180.0 * Lat + ImY/2.0\n",
    "MapX = (ImX/360.0 * Lon) + ImX/2.0\n",
    "\n",
    "mask1 = np.where(MapX > ImX)\n",
    "\n",
    "MapX[mask1] -= ImX"
   ]
  },
  {
   "cell_type": "code",
   "execution_count": null,
   "id": "f86c2287",
   "metadata": {
    "collapsed": false,
    "jupyter": {
     "outputs_hidden": false
    }
   },
   "outputs": [],
   "source": [
    "#fig = plt.figure()\n",
    "#ax = fig.add_axes([0.0, 0.0, 1.0, 1.0])\n",
    "\n",
    "fig, ax = plt.subplots(1,1)\n",
    "fig.set_size_inches(10,5)\n",
    "fig.tight_layout()\n",
    "\n",
    "ax.autoscale_view('tight')\n",
    "ax.set_axis_off()\n",
    "\n",
    "ax.scatter(MapX,MapY,marker='^',s=20,color='y', edgecolor='k')\n",
    "ax.imshow(Topo)\n"
   ]
  },
  {
   "cell_type": "code",
   "execution_count": null,
   "id": "78c4fa87",
   "metadata": {
    "collapsed": false,
    "jupyter": {
     "outputs_hidden": false
    }
   },
   "outputs": [],
   "source": [
    "#fig.savefig('VenusShieldVol_RAW.png', dpi=300, bbox_inches='tight',pad_inches=0)"
   ]
  },
  {
   "cell_type": "markdown",
   "id": "de3ca7b6",
   "metadata": {},
   "source": [
    "### Impact Craters"
   ]
  },
  {
   "cell_type": "code",
   "execution_count": null,
   "id": "a47929c7",
   "metadata": {
    "collapsed": false,
    "jupyter": {
     "outputs_hidden": false
    }
   },
   "outputs": [],
   "source": [
    "Lat,Lon = np.loadtxt('VenusCratersD.dat', delimiter=',', usecols=(0,1), unpack=True)\n",
    "\n",
    "ImY,ImX = Topo.shape[0:-1]\n",
    "\n",
    "MapY = -ImY/180.0 * Lat + ImY/2.0\n",
    "MapX = (ImX/360.0 * Lon) + ImX/2.0\n",
    "\n",
    "mask1 = np.where(MapX > ImX)\n",
    "\n",
    "MapX[mask1] -= ImX"
   ]
  },
  {
   "cell_type": "code",
   "execution_count": null,
   "id": "9cf6c3b6",
   "metadata": {
    "collapsed": false,
    "jupyter": {
     "outputs_hidden": false
    }
   },
   "outputs": [],
   "source": [
    "fig, ax = plt.subplots(1,1)\n",
    "fig.set_size_inches(10,5)\n",
    "fig.tight_layout()\n",
    "\n",
    "ax.autoscale_view('tight')\n",
    "ax.set_axis_off()\n",
    "\n",
    "ax.scatter(MapX,MapY,marker='o',s=7,color='k',edgecolor='#ffffff')\n",
    "ax.imshow(Topo)"
   ]
  },
  {
   "cell_type": "code",
   "execution_count": null,
   "id": "548c7a46",
   "metadata": {
    "collapsed": false,
    "jupyter": {
     "outputs_hidden": false
    }
   },
   "outputs": [],
   "source": [
    "#fig.savefig('VenusImCraters_RAW.png', dpi=300, bbox_inches='tight',pad_inches=0)"
   ]
  },
  {
   "cell_type": "markdown",
   "id": "546fa414",
   "metadata": {},
   "source": [
    "### Large Vols"
   ]
  },
  {
   "cell_type": "code",
   "execution_count": null,
   "id": "eded6ebe",
   "metadata": {
    "collapsed": false,
    "jupyter": {
     "outputs_hidden": false
    }
   },
   "outputs": [],
   "source": [
    "Lat,Lon = np.loadtxt('VenusLV.csv', delimiter=',', usecols=(1,2), unpack=True)\n",
    "\n",
    "ImY,ImX = Topo.shape[0:-1]\n",
    "\n",
    "MapY = -ImY/180.0 * Lat + ImY/2.0\n",
    "MapX = (ImX/360.0 * Lon) + ImX/2.0\n",
    "\n",
    "mask1 = np.where(MapX > ImX)\n",
    "\n",
    "MapX[mask1] -= ImX"
   ]
  },
  {
   "cell_type": "code",
   "execution_count": null,
   "id": "cc5df49e",
   "metadata": {
    "collapsed": false,
    "jupyter": {
     "outputs_hidden": false
    }
   },
   "outputs": [],
   "source": [
    "fig, ax = plt.subplots(1,1)\n",
    "fig.set_size_inches(10,5)\n",
    "fig.tight_layout()\n",
    "\n",
    "ax.autoscale_view('tight')\n",
    "ax.set_axis_off()\n",
    "\n",
    "ax.scatter(MapX,MapY,marker='d',s=15,color='r',edgecolor='k')\n",
    "ax.imshow(Topo)"
   ]
  },
  {
   "cell_type": "code",
   "execution_count": null,
   "id": "2200b713",
   "metadata": {
    "collapsed": false,
    "jupyter": {
     "outputs_hidden": false
    }
   },
   "outputs": [],
   "source": [
    "#fig.savefig('VenusLargeVols_RAW.png', dpi=300, bbox_inches='tight',pad_inches=0)"
   ]
  },
  {
   "cell_type": "markdown",
   "id": "ac953901",
   "metadata": {},
   "source": [
    "### Corona and Arachnoids"
   ]
  },
  {
   "cell_type": "code",
   "execution_count": null,
   "id": "96a8a712",
   "metadata": {
    "collapsed": false,
    "jupyter": {
     "outputs_hidden": false
    }
   },
   "outputs": [],
   "source": [
    "Lat,Lon = np.loadtxt('Venus_COAR.csv', delimiter=',', usecols=(1,2), unpack=True)\n",
    "\n",
    "ImY,ImX = Topo.shape[0:-1]\n",
    "\n",
    "MapY = -ImY/180.0 * Lat + ImY/2.0\n",
    "MapX = (ImX/360.0 * Lon) + ImX/2.0\n",
    "\n",
    "mask1 = np.where(MapX > ImX)\n",
    "\n",
    "MapX[mask1] -= ImX"
   ]
  },
  {
   "cell_type": "code",
   "execution_count": null,
   "id": "3fd5754a",
   "metadata": {
    "collapsed": false,
    "jupyter": {
     "outputs_hidden": false
    }
   },
   "outputs": [],
   "source": [
    "fig, ax = plt.subplots(1,1)\n",
    "fig.set_size_inches(10,5)\n",
    "fig.tight_layout()\n",
    "\n",
    "ax.autoscale_view('tight')\n",
    "ax.set_axis_off()\n",
    "\n",
    "ax.scatter(MapX,MapY,marker='p',s=15,color='#00eeff',edgecolor='k')\n",
    "ax.imshow(Topo)"
   ]
  },
  {
   "cell_type": "code",
   "execution_count": null,
   "id": "eb9284be",
   "metadata": {
    "collapsed": false,
    "jupyter": {
     "outputs_hidden": false
    }
   },
   "outputs": [],
   "source": [
    "#fig.savefig('VenusCorona_RAW.png', dpi=300, bbox_inches='tight',pad_inches=0)"
   ]
  },
  {
   "cell_type": "code",
   "execution_count": null,
   "id": "b74fc4dd",
   "metadata": {
    "collapsed": false,
    "jupyter": {
     "outputs_hidden": false
    }
   },
   "outputs": [],
   "source": []
  }
 ],
 "metadata": {
  "kernelspec": {
   "display_name": "Python 3 (ipykernel)",
   "language": "python",
   "name": "python3"
  },
  "language_info": {
   "codemirror_mode": {
    "name": "ipython",
    "version": 3
   },
   "file_extension": ".py",
   "mimetype": "text/x-python",
   "name": "python",
   "nbconvert_exporter": "python",
   "pygments_lexer": "ipython3",
   "version": "3.9.7"
  }
 },
 "nbformat": 4,
 "nbformat_minor": 5
}
