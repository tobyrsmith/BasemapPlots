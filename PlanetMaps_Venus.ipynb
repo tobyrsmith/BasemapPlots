{
 "metadata": {
  "name": ""
 },
 "nbformat": 3,
 "nbformat_minor": 0,
 "worksheets": [
  {
   "cells": [
    {
     "cell_type": "code",
     "collapsed": false,
     "input": [
      "%pylab inline\n",
      "import numpy as np\n",
      "import matplotlib.pyplot as plt\n",
      "\n",
      "plt.rc('axes', grid=False)   # turn off the background grid for images"
     ],
     "language": "python",
     "metadata": {},
     "outputs": []
    },
    {
     "cell_type": "code",
     "collapsed": false,
     "input": [
      "Topo = plt.imread('VenusTopo.jpg')\n",
      "print Topo.shape, Topo.dtype"
     ],
     "language": "python",
     "metadata": {},
     "outputs": []
    },
    {
     "cell_type": "markdown",
     "metadata": {},
     "source": [
      "### Shield Vols"
     ]
    },
    {
     "cell_type": "code",
     "collapsed": false,
     "input": [
      "TestLat = np.array([0,45,60,-45,-60])\n",
      "TestLon = np.array([0,90,180,270,315])\n",
      "\n",
      "Lat,Lon = np.loadtxt('VenusSF.csv', delimiter=',', usecols=(1,2), unpack=True)\n",
      "\n",
      "ImY,ImX = Topo.shape[0:-1]\n",
      "\n",
      "MapY = -ImY/180.0 * Lat + ImY/2.0\n",
      "MapX = (ImX/360.0 * Lon) + ImX/2.0\n",
      "\n",
      "mask1 = np.where(MapX > ImX)\n",
      "\n",
      "MapX[mask1] -= ImX"
     ],
     "language": "python",
     "metadata": {},
     "outputs": []
    },
    {
     "cell_type": "code",
     "collapsed": false,
     "input": [
      "#fig = plt.figure()\n",
      "#ax = fig.add_axes([0.0, 0.0, 1.0, 1.0])\n",
      "\n",
      "fig, ax = plt.subplots(1,1)\n",
      "fig.set_size_inches(10,5)\n",
      "fig.tight_layout()\n",
      "\n",
      "ax.autoscale_view('tight')\n",
      "ax.set_axis_off()\n",
      "\n",
      "ax.scatter(MapX,MapY,marker='^',s=20,color='y', edgecolor='k')\n",
      "ax.imshow(Topo)\n"
     ],
     "language": "python",
     "metadata": {},
     "outputs": []
    },
    {
     "cell_type": "code",
     "collapsed": false,
     "input": [
      "#fig.savefig('VenusShieldVol_RAW.png', dpi=300, bbox_inches='tight',pad_inches=0)"
     ],
     "language": "python",
     "metadata": {},
     "outputs": []
    },
    {
     "cell_type": "markdown",
     "metadata": {},
     "source": [
      "### Impact Craters"
     ]
    },
    {
     "cell_type": "code",
     "collapsed": false,
     "input": [
      "Lat,Lon = np.loadtxt('VenusCratersD.dat', delimiter=',', usecols=(0,1), unpack=True)\n",
      "\n",
      "ImY,ImX = Topo.shape[0:-1]\n",
      "\n",
      "MapY = -ImY/180.0 * Lat + ImY/2.0\n",
      "MapX = (ImX/360.0 * Lon) + ImX/2.0\n",
      "\n",
      "mask1 = np.where(MapX > ImX)\n",
      "\n",
      "MapX[mask1] -= ImX"
     ],
     "language": "python",
     "metadata": {},
     "outputs": []
    },
    {
     "cell_type": "code",
     "collapsed": false,
     "input": [
      "fig, ax = plt.subplots(1,1)\n",
      "fig.set_size_inches(10,5)\n",
      "fig.tight_layout()\n",
      "\n",
      "ax.autoscale_view('tight')\n",
      "ax.set_axis_off()\n",
      "\n",
      "ax.scatter(MapX,MapY,marker='o',s=7,color='k',edgecolor='#ffffff')\n",
      "ax.imshow(Topo)"
     ],
     "language": "python",
     "metadata": {},
     "outputs": []
    },
    {
     "cell_type": "code",
     "collapsed": false,
     "input": [
      "#fig.savefig('VenusImCraters_RAW.png', dpi=300, bbox_inches='tight',pad_inches=0)"
     ],
     "language": "python",
     "metadata": {},
     "outputs": []
    },
    {
     "cell_type": "markdown",
     "metadata": {},
     "source": [
      "### Large Vols"
     ]
    },
    {
     "cell_type": "code",
     "collapsed": false,
     "input": [
      "Lat,Lon = np.loadtxt('VenusLV.csv', delimiter=',', usecols=(1,2), unpack=True)\n",
      "\n",
      "ImY,ImX = Topo.shape[0:-1]\n",
      "\n",
      "MapY = -ImY/180.0 * Lat + ImY/2.0\n",
      "MapX = (ImX/360.0 * Lon) + ImX/2.0\n",
      "\n",
      "mask1 = np.where(MapX > ImX)\n",
      "\n",
      "MapX[mask1] -= ImX"
     ],
     "language": "python",
     "metadata": {},
     "outputs": []
    },
    {
     "cell_type": "code",
     "collapsed": false,
     "input": [
      "fig, ax = plt.subplots(1,1)\n",
      "fig.set_size_inches(10,5)\n",
      "fig.tight_layout()\n",
      "\n",
      "ax.autoscale_view('tight')\n",
      "ax.set_axis_off()\n",
      "\n",
      "ax.scatter(MapX,MapY,marker='d',s=15,color='r',edgecolor='k')\n",
      "ax.imshow(Topo)"
     ],
     "language": "python",
     "metadata": {},
     "outputs": []
    },
    {
     "cell_type": "code",
     "collapsed": false,
     "input": [
      "#fig.savefig('VenusLargeVols_RAW.png', dpi=300, bbox_inches='tight',pad_inches=0)"
     ],
     "language": "python",
     "metadata": {},
     "outputs": []
    },
    {
     "cell_type": "markdown",
     "metadata": {},
     "source": [
      "### Corona and Arachnoids"
     ]
    },
    {
     "cell_type": "code",
     "collapsed": false,
     "input": [
      "Lat,Lon = np.loadtxt('Venus_COAR.csv', delimiter=',', usecols=(1,2), unpack=True)\n",
      "\n",
      "ImY,ImX = Topo.shape[0:-1]\n",
      "\n",
      "MapY = -ImY/180.0 * Lat + ImY/2.0\n",
      "MapX = (ImX/360.0 * Lon) + ImX/2.0\n",
      "\n",
      "mask1 = np.where(MapX > ImX)\n",
      "\n",
      "MapX[mask1] -= ImX"
     ],
     "language": "python",
     "metadata": {},
     "outputs": []
    },
    {
     "cell_type": "code",
     "collapsed": false,
     "input": [
      "fig, ax = plt.subplots(1,1)\n",
      "fig.set_size_inches(10,5)\n",
      "fig.tight_layout()\n",
      "\n",
      "ax.autoscale_view('tight')\n",
      "ax.set_axis_off()\n",
      "\n",
      "ax.scatter(MapX,MapY,marker='p',s=15,color='#00eeff',edgecolor='k')\n",
      "ax.imshow(Topo)"
     ],
     "language": "python",
     "metadata": {},
     "outputs": []
    },
    {
     "cell_type": "code",
     "collapsed": false,
     "input": [
      "#fig.savefig('VenusCorona_RAW.png', dpi=300, bbox_inches='tight',pad_inches=0)"
     ],
     "language": "python",
     "metadata": {},
     "outputs": []
    },
    {
     "cell_type": "code",
     "collapsed": false,
     "input": [],
     "language": "python",
     "metadata": {},
     "outputs": []
    }
   ],
   "metadata": {}
  }
 ]
}